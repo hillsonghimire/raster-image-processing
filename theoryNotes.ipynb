{
 "cells": [
  {
   "cell_type": "markdown",
   "metadata": {},
   "source": [
    "## 9 Working With Images"
   ]
  },
  {
   "cell_type": "markdown",
   "metadata": {},
   "source": [
    "Libraries mostly used in raster image processing are as:\n",
    "\n",
    "    1 Python Imaging Library (PIL) for image processing\n",
    "    2 NumPy, provides multidimensional array mathematics\n",
    "    3 GDAL\n",
    "    4 RASTERIO\n",
    "    5 MATPLOTLIB\n",
    "    6 FIONA\n",
    "    7 SciPy\n",
    "    8 GEOPANDAS\n",
    "    \n",
    "    AND THE LIST GOES ON AND ON...\n",
    "    \n",
    "--------------------------------------------------"
   ]
  },
  {
   "cell_type": "markdown",
   "metadata": {},
   "source": [
    "### 9.1 Bands and Modes\n",
    "<div>Image bands (also called channels or layers) are a collection of pictures taken simultaneously of the same place.\n",
    "Bands describe a range of wavelengths (colors).\n",
    "Generally, images have three-dimensions (rows, columns, and bands).\n",
    "In Hyperspectral remote sensing, there are dozens or even hundreds of bands.</div>\n",
    "The mode of an image defines the type and depth of a pixel in the image. Each pixel uses the full range of the bit depth. So a 1-bit pixel has a range of 0-1, an 8-bit pixel has a range of 0-255 and so on.\n",
    "\n",
    "  - 1 (1-bit pixels, black and white, stored with one pixel per byte)\n",
    "  - L (8-bit pixels, black and white)\n",
    "  - P (8-bit pixels, mapped to any other mode using a color palette)\n",
    "  - RGB (3x8-bit pixels, true color)\n",
    "  - RGBA (4x8-bit pixels, true color with transparency mask)\n",
    "  - CMYK (4x8-bit pixels, color separation)\n",
    "  - YCbCr (3x8-bit pixels, color video format)\n",
    "  - Note that this refers to the JPEG, and not the ITU-R BT.2020, standard\n",
    "  - LAB (3x8-bit pixels, the L*a*b color space)\n",
    "  - HSV (3x8-bit pixels, Hue, Saturation, Value color space)\n",
    "  - I (32-bit signed integer pixels)\n",
    "  - F (32-bit floating point pixels)\n",
    "  \n",
    "  \n",
    "Source : https://pillow.readthedocs.io/en/stable/handbook/concepts.html\n",
    "\n",
    "-----------------------------------------------------------"
   ]
  },
  {
   "cell_type": "markdown",
   "metadata": {},
   "source": [
    "### 9.2 Handling Images\n",
    "\n",
    "#### GDAL and NumPy (General Guideline) :\n"
   ]
  },
  {
   "cell_type": "markdown",
   "metadata": {},
   "source": [
    "### Open GDALDatasets --> Get raster band(s) --> Convert raster band(s) to Numpy Array using ReadAsArray() --> Process the raster band(s) using NumPy Functionality --> Convert NumPy array to GDAL raster bands using WriteAsArray() --> Write Out GDALDataset"
   ]
  },
  {
   "cell_type": "code",
   "execution_count": null,
   "metadata": {},
   "outputs": [],
   "source": []
  }
 ],
 "metadata": {
  "kernelspec": {
   "display_name": "Python 3",
   "language": "python",
   "name": "python3"
  },
  "language_info": {
   "codemirror_mode": {
    "name": "ipython",
    "version": 3
   },
   "file_extension": ".py",
   "mimetype": "text/x-python",
   "name": "python",
   "nbconvert_exporter": "python",
   "pygments_lexer": "ipython3",
   "version": "3.7.4"
  }
 },
 "nbformat": 4,
 "nbformat_minor": 4
}
